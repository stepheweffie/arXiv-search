{
 "cells": [
  {
   "cell_type": "code",
   "execution_count": 1,
   "id": "9a0e7e9d",
   "metadata": {
    "scrolled": true
   },
   "outputs": [
    {
     "name": "stdout",
     "output_type": "stream",
     "text": [
      "Requirement already satisfied: requests in /Users/savantlab/arXiv-search/env/lib/python3.11/site-packages (2.32.3)\n",
      "Requirement already satisfied: d6tflow in /Users/savantlab/arXiv-search/env/lib/python3.11/site-packages (0.2.8)\n",
      "Requirement already satisfied: pandas in /Users/savantlab/arXiv-search/env/lib/python3.11/site-packages (2.2.3)\n",
      "Requirement already satisfied: numpy in /Users/savantlab/arXiv-search/env/lib/python3.11/site-packages (1.26.4)\n",
      "Requirement already satisfied: gensim in /Users/savantlab/arXiv-search/env/lib/python3.11/site-packages (4.3.3)\n",
      "Requirement already satisfied: psycopg2 in /Users/savantlab/arXiv-search/env/lib/python3.11/site-packages (2.9.9)\n",
      "Requirement already satisfied: charset-normalizer<4,>=2 in /Users/savantlab/arXiv-search/env/lib/python3.11/site-packages (from requests) (3.3.2)\n",
      "Requirement already satisfied: idna<4,>=2.5 in /Users/savantlab/arXiv-search/env/lib/python3.11/site-packages (from requests) (3.10)\n",
      "Requirement already satisfied: urllib3<3,>=1.21.1 in /Users/savantlab/arXiv-search/env/lib/python3.11/site-packages (from requests) (2.2.3)\n",
      "Requirement already satisfied: certifi>=2017.4.17 in /Users/savantlab/arXiv-search/env/lib/python3.11/site-packages (from requests) (2024.8.30)\n",
      "Requirement already satisfied: luigi>=3.0.1 in /Users/savantlab/arXiv-search/env/lib/python3.11/site-packages (from d6tflow) (3.5.2)\n",
      "Requirement already satisfied: pyarrow in /Users/savantlab/arXiv-search/env/lib/python3.11/site-packages (from d6tflow) (17.0.0)\n",
      "Requirement already satisfied: Jinja2 in /Users/savantlab/arXiv-search/env/lib/python3.11/site-packages (from d6tflow) (3.1.4)\n",
      "Requirement already satisfied: python-dateutil>=2.8.2 in /Users/savantlab/arXiv-search/env/lib/python3.11/site-packages (from pandas) (2.9.0.post0)\n",
      "Requirement already satisfied: pytz>=2020.1 in /Users/savantlab/arXiv-search/env/lib/python3.11/site-packages (from pandas) (2024.2)\n",
      "Requirement already satisfied: tzdata>=2022.7 in /Users/savantlab/arXiv-search/env/lib/python3.11/site-packages (from pandas) (2024.2)\n",
      "Requirement already satisfied: scipy<1.14.0,>=1.7.0 in /Users/savantlab/arXiv-search/env/lib/python3.11/site-packages (from gensim) (1.13.1)\n",
      "Requirement already satisfied: smart-open>=1.8.1 in /Users/savantlab/arXiv-search/env/lib/python3.11/site-packages (from gensim) (7.0.4)\n",
      "Requirement already satisfied: tenacity<9,>=8 in /Users/savantlab/arXiv-search/env/lib/python3.11/site-packages (from luigi>=3.0.1->d6tflow) (8.5.0)\n",
      "Requirement already satisfied: python-daemon in /Users/savantlab/arXiv-search/env/lib/python3.11/site-packages (from luigi>=3.0.1->d6tflow) (3.0.1)\n",
      "Requirement already satisfied: tornado<7,>=5.0 in /Users/savantlab/arXiv-search/env/lib/python3.11/site-packages (from luigi>=3.0.1->d6tflow) (6.4.1)\n",
      "Requirement already satisfied: six>=1.5 in /Users/savantlab/arXiv-search/env/lib/python3.11/site-packages (from python-dateutil>=2.8.2->pandas) (1.16.0)\n",
      "Requirement already satisfied: wrapt in /Users/savantlab/arXiv-search/env/lib/python3.11/site-packages (from smart-open>=1.8.1->gensim) (1.16.0)\n",
      "Requirement already satisfied: MarkupSafe>=2.0 in /Users/savantlab/arXiv-search/env/lib/python3.11/site-packages (from Jinja2->d6tflow) (2.1.5)\n",
      "Requirement already satisfied: docutils in /Users/savantlab/arXiv-search/env/lib/python3.11/site-packages (from python-daemon->luigi>=3.0.1->d6tflow) (0.20.1)\n",
      "Requirement already satisfied: lockfile>=0.10 in /Users/savantlab/arXiv-search/env/lib/python3.11/site-packages (from python-daemon->luigi>=3.0.1->d6tflow) (0.12.2)\n",
      "Requirement already satisfied: setuptools>=62.4.0 in /Users/savantlab/arXiv-search/env/lib/python3.11/site-packages (from python-daemon->luigi>=3.0.1->d6tflow) (73.0.1)\n",
      "Note: you may need to restart the kernel to use updated packages.\n"
     ]
    }
   ],
   "source": [
    "pip install requests d6tflow pandas numpy gensim  psycopg2"
   ]
  },
  {
   "cell_type": "code",
   "execution_count": 2,
   "id": "24a7f2b6",
   "metadata": {},
   "outputs": [
    {
     "name": "stdout",
     "output_type": "stream",
     "text": [
      "Requirement already satisfied: transformers in /Users/savantlab/arXiv-search/env/lib/python3.11/site-packages (4.44.2)\n",
      "Requirement already satisfied: filelock in /Users/savantlab/arXiv-search/env/lib/python3.11/site-packages (from transformers) (3.16.1)\n",
      "Requirement already satisfied: huggingface-hub<1.0,>=0.23.2 in /Users/savantlab/arXiv-search/env/lib/python3.11/site-packages (from transformers) (0.25.1)\n",
      "Requirement already satisfied: numpy>=1.17 in /Users/savantlab/arXiv-search/env/lib/python3.11/site-packages (from transformers) (1.26.4)\n",
      "Requirement already satisfied: packaging>=20.0 in /Users/savantlab/arXiv-search/env/lib/python3.11/site-packages (from transformers) (24.1)\n",
      "Requirement already satisfied: pyyaml>=5.1 in /Users/savantlab/arXiv-search/env/lib/python3.11/site-packages (from transformers) (6.0.2)\n",
      "Requirement already satisfied: regex!=2019.12.17 in /Users/savantlab/arXiv-search/env/lib/python3.11/site-packages (from transformers) (2024.9.11)\n",
      "Requirement already satisfied: requests in /Users/savantlab/arXiv-search/env/lib/python3.11/site-packages (from transformers) (2.32.3)\n",
      "Requirement already satisfied: safetensors>=0.4.1 in /Users/savantlab/arXiv-search/env/lib/python3.11/site-packages (from transformers) (0.4.5)\n",
      "Requirement already satisfied: tokenizers<0.20,>=0.19 in /Users/savantlab/arXiv-search/env/lib/python3.11/site-packages (from transformers) (0.19.1)\n",
      "Requirement already satisfied: tqdm>=4.27 in /Users/savantlab/arXiv-search/env/lib/python3.11/site-packages (from transformers) (4.66.5)\n",
      "Requirement already satisfied: fsspec>=2023.5.0 in /Users/savantlab/arXiv-search/env/lib/python3.11/site-packages (from huggingface-hub<1.0,>=0.23.2->transformers) (2024.9.0)\n",
      "Requirement already satisfied: typing-extensions>=3.7.4.3 in /Users/savantlab/arXiv-search/env/lib/python3.11/site-packages (from huggingface-hub<1.0,>=0.23.2->transformers) (4.12.2)\n",
      "Requirement already satisfied: charset-normalizer<4,>=2 in /Users/savantlab/arXiv-search/env/lib/python3.11/site-packages (from requests->transformers) (3.3.2)\n",
      "Requirement already satisfied: idna<4,>=2.5 in /Users/savantlab/arXiv-search/env/lib/python3.11/site-packages (from requests->transformers) (3.10)\n",
      "Requirement already satisfied: urllib3<3,>=1.21.1 in /Users/savantlab/arXiv-search/env/lib/python3.11/site-packages (from requests->transformers) (2.2.3)\n",
      "Requirement already satisfied: certifi>=2017.4.17 in /Users/savantlab/arXiv-search/env/lib/python3.11/site-packages (from requests->transformers) (2024.8.30)\n",
      "Note: you may need to restart the kernel to use updated packages.\n"
     ]
    }
   ],
   "source": [
    "pip install transformers -U"
   ]
  },
  {
   "cell_type": "code",
   "execution_count": 3,
   "id": "d53a7810",
   "metadata": {},
   "outputs": [
    {
     "name": "stdout",
     "output_type": "stream",
     "text": [
      "Requirement already satisfied: torch==2.2.1 in /Users/savantlab/arXiv-search/env/lib/python3.11/site-packages (2.2.1)\n",
      "Requirement already satisfied: filelock in /Users/savantlab/arXiv-search/env/lib/python3.11/site-packages (from torch==2.2.1) (3.16.1)\n",
      "Requirement already satisfied: typing-extensions>=4.8.0 in /Users/savantlab/arXiv-search/env/lib/python3.11/site-packages (from torch==2.2.1) (4.12.2)\n",
      "Requirement already satisfied: sympy in /Users/savantlab/arXiv-search/env/lib/python3.11/site-packages (from torch==2.2.1) (1.13.3)\n",
      "Requirement already satisfied: networkx in /Users/savantlab/arXiv-search/env/lib/python3.11/site-packages (from torch==2.2.1) (3.3)\n",
      "Requirement already satisfied: jinja2 in /Users/savantlab/arXiv-search/env/lib/python3.11/site-packages (from torch==2.2.1) (3.1.4)\n",
      "Requirement already satisfied: fsspec in /Users/savantlab/arXiv-search/env/lib/python3.11/site-packages (from torch==2.2.1) (2024.9.0)\n",
      "Requirement already satisfied: MarkupSafe>=2.0 in /Users/savantlab/arXiv-search/env/lib/python3.11/site-packages (from jinja2->torch==2.2.1) (2.1.5)\n",
      "Requirement already satisfied: mpmath<1.4,>=1.1.0 in /Users/savantlab/arXiv-search/env/lib/python3.11/site-packages (from sympy->torch==2.2.1) (1.3.0)\n",
      "Note: you may need to restart the kernel to use updated packages.\n"
     ]
    }
   ],
   "source": [
    "pip install torch==2.2.1"
   ]
  },
  {
   "cell_type": "code",
   "execution_count": 4,
   "id": "e552901d",
   "metadata": {
    "scrolled": true
   },
   "outputs": [
    {
     "name": "stdout",
     "output_type": "stream",
     "text": [
      "Requirement already satisfied: sentence-transformers in /Users/savantlab/arXiv-search/env/lib/python3.11/site-packages (3.1.1)\n",
      "Requirement already satisfied: transformers<5.0.0,>=4.38.0 in /Users/savantlab/arXiv-search/env/lib/python3.11/site-packages (from sentence-transformers) (4.44.2)\n",
      "Requirement already satisfied: tqdm in /Users/savantlab/arXiv-search/env/lib/python3.11/site-packages (from sentence-transformers) (4.66.5)\n",
      "Requirement already satisfied: torch>=1.11.0 in /Users/savantlab/arXiv-search/env/lib/python3.11/site-packages (from sentence-transformers) (2.2.1)\n",
      "Requirement already satisfied: scikit-learn in /Users/savantlab/arXiv-search/env/lib/python3.11/site-packages (from sentence-transformers) (1.5.2)\n",
      "Requirement already satisfied: scipy in /Users/savantlab/arXiv-search/env/lib/python3.11/site-packages (from sentence-transformers) (1.13.1)\n",
      "Requirement already satisfied: huggingface-hub>=0.19.3 in /Users/savantlab/arXiv-search/env/lib/python3.11/site-packages (from sentence-transformers) (0.25.1)\n",
      "Requirement already satisfied: Pillow in /Users/savantlab/arXiv-search/env/lib/python3.11/site-packages (from sentence-transformers) (10.4.0)\n",
      "Requirement already satisfied: filelock in /Users/savantlab/arXiv-search/env/lib/python3.11/site-packages (from huggingface-hub>=0.19.3->sentence-transformers) (3.16.1)\n",
      "Requirement already satisfied: fsspec>=2023.5.0 in /Users/savantlab/arXiv-search/env/lib/python3.11/site-packages (from huggingface-hub>=0.19.3->sentence-transformers) (2024.9.0)\n",
      "Requirement already satisfied: packaging>=20.9 in /Users/savantlab/arXiv-search/env/lib/python3.11/site-packages (from huggingface-hub>=0.19.3->sentence-transformers) (24.1)\n",
      "Requirement already satisfied: pyyaml>=5.1 in /Users/savantlab/arXiv-search/env/lib/python3.11/site-packages (from huggingface-hub>=0.19.3->sentence-transformers) (6.0.2)\n",
      "Requirement already satisfied: requests in /Users/savantlab/arXiv-search/env/lib/python3.11/site-packages (from huggingface-hub>=0.19.3->sentence-transformers) (2.32.3)\n",
      "Requirement already satisfied: typing-extensions>=3.7.4.3 in /Users/savantlab/arXiv-search/env/lib/python3.11/site-packages (from huggingface-hub>=0.19.3->sentence-transformers) (4.12.2)\n",
      "Requirement already satisfied: sympy in /Users/savantlab/arXiv-search/env/lib/python3.11/site-packages (from torch>=1.11.0->sentence-transformers) (1.13.3)\n",
      "Requirement already satisfied: networkx in /Users/savantlab/arXiv-search/env/lib/python3.11/site-packages (from torch>=1.11.0->sentence-transformers) (3.3)\n",
      "Requirement already satisfied: jinja2 in /Users/savantlab/arXiv-search/env/lib/python3.11/site-packages (from torch>=1.11.0->sentence-transformers) (3.1.4)\n",
      "Requirement already satisfied: numpy>=1.17 in /Users/savantlab/arXiv-search/env/lib/python3.11/site-packages (from transformers<5.0.0,>=4.38.0->sentence-transformers) (1.26.4)\n",
      "Requirement already satisfied: regex!=2019.12.17 in /Users/savantlab/arXiv-search/env/lib/python3.11/site-packages (from transformers<5.0.0,>=4.38.0->sentence-transformers) (2024.9.11)\n",
      "Requirement already satisfied: safetensors>=0.4.1 in /Users/savantlab/arXiv-search/env/lib/python3.11/site-packages (from transformers<5.0.0,>=4.38.0->sentence-transformers) (0.4.5)\n",
      "Requirement already satisfied: tokenizers<0.20,>=0.19 in /Users/savantlab/arXiv-search/env/lib/python3.11/site-packages (from transformers<5.0.0,>=4.38.0->sentence-transformers) (0.19.1)\n",
      "Requirement already satisfied: joblib>=1.2.0 in /Users/savantlab/arXiv-search/env/lib/python3.11/site-packages (from scikit-learn->sentence-transformers) (1.4.2)\n",
      "Requirement already satisfied: threadpoolctl>=3.1.0 in /Users/savantlab/arXiv-search/env/lib/python3.11/site-packages (from scikit-learn->sentence-transformers) (3.5.0)\n",
      "Requirement already satisfied: MarkupSafe>=2.0 in /Users/savantlab/arXiv-search/env/lib/python3.11/site-packages (from jinja2->torch>=1.11.0->sentence-transformers) (2.1.5)\n",
      "Requirement already satisfied: charset-normalizer<4,>=2 in /Users/savantlab/arXiv-search/env/lib/python3.11/site-packages (from requests->huggingface-hub>=0.19.3->sentence-transformers) (3.3.2)\n",
      "Requirement already satisfied: idna<4,>=2.5 in /Users/savantlab/arXiv-search/env/lib/python3.11/site-packages (from requests->huggingface-hub>=0.19.3->sentence-transformers) (3.10)\n",
      "Requirement already satisfied: urllib3<3,>=1.21.1 in /Users/savantlab/arXiv-search/env/lib/python3.11/site-packages (from requests->huggingface-hub>=0.19.3->sentence-transformers) (2.2.3)\n",
      "Requirement already satisfied: certifi>=2017.4.17 in /Users/savantlab/arXiv-search/env/lib/python3.11/site-packages (from requests->huggingface-hub>=0.19.3->sentence-transformers) (2024.8.30)\n",
      "Requirement already satisfied: mpmath<1.4,>=1.1.0 in /Users/savantlab/arXiv-search/env/lib/python3.11/site-packages (from sympy->torch>=1.11.0->sentence-transformers) (1.3.0)\n",
      "Note: you may need to restart the kernel to use updated packages.\n"
     ]
    }
   ],
   "source": [
    "pip install -U sentence-transformers"
   ]
  },
  {
   "cell_type": "code",
   "execution_count": 5,
   "id": "5abfff2e",
   "metadata": {},
   "outputs": [
    {
     "name": "stderr",
     "output_type": "stream",
     "text": [
      "/Users/savantlab/arXiv-search/env/lib/python3.11/site-packages/sentence_transformers/cross_encoder/CrossEncoder.py:13: TqdmExperimentalWarning: Using `tqdm.autonotebook.tqdm` in notebook mode. Use `tqdm.tqdm` instead to force console mode (e.g. in jupyter console)\n",
      "  from tqdm.autonotebook import tqdm, trange\n",
      "Loading S3 module without the python package boto3. Will crash at runtime if S3 functionality is used.\n"
     ]
    },
    {
     "name": "stdout",
     "output_type": "stream",
     "text": [
      "Welcome to d6tflow! For Q&A see https://github.com/d6t/d6tflow\n"
     ]
    }
   ],
   "source": [
    "import os \n",
    "from sentence_transformers import SentenceTransformer\n",
    "import d6tflow"
   ]
  },
  {
   "cell_type": "code",
   "execution_count": 6,
   "id": "5f80b2e7",
   "metadata": {},
   "outputs": [
    {
     "name": "stdout",
     "output_type": "stream",
     "text": [
      "SentenceTransformer(\n",
      "  (0): Transformer({'max_seq_length': 100, 'do_lower_case': False}) with Transformer model: AlbertModel \n",
      "  (1): Pooling({'word_embedding_dimension': 768, 'pooling_mode_cls_token': False, 'pooling_mode_mean_tokens': True, 'pooling_mode_max_tokens': False, 'pooling_mode_mean_sqrt_len_tokens': False, 'pooling_mode_weightedmean_tokens': False, 'pooling_mode_lasttoken': False, 'include_prompt': True})\n",
      ")\n"
     ]
    },
    {
     "name": "stderr",
     "output_type": "stream",
     "text": [
      "/Users/savantlab/arXiv-search/env/lib/python3.11/site-packages/transformers/tokenization_utils_base.py:1601: FutureWarning: `clean_up_tokenization_spaces` was not set. It will be set to `True` by default. This behavior will be depracted in transformers v4.45, and will be then set to `False` by default. For more details check this issue: https://github.com/huggingface/transformers/issues/31884\n",
      "  warnings.warn(\n"
     ]
    }
   ],
   "source": [
    "model = SentenceTransformer('paraphrase-albert-small-v2')\n",
    "print(model)"
   ]
  },
  {
   "cell_type": "code",
   "execution_count": 7,
   "id": "2feb0ac0",
   "metadata": {},
   "outputs": [
    {
     "name": "stdout",
     "output_type": "stream",
     "text": [
      "Requirement already satisfied: huggingface_hub in /Users/savantlab/arXiv-search/env/lib/python3.11/site-packages (0.25.1)\n",
      "Requirement already satisfied: filelock in /Users/savantlab/arXiv-search/env/lib/python3.11/site-packages (from huggingface_hub) (3.16.1)\n",
      "Requirement already satisfied: fsspec>=2023.5.0 in /Users/savantlab/arXiv-search/env/lib/python3.11/site-packages (from huggingface_hub) (2024.9.0)\n",
      "Requirement already satisfied: packaging>=20.9 in /Users/savantlab/arXiv-search/env/lib/python3.11/site-packages (from huggingface_hub) (24.1)\n",
      "Requirement already satisfied: pyyaml>=5.1 in /Users/savantlab/arXiv-search/env/lib/python3.11/site-packages (from huggingface_hub) (6.0.2)\n",
      "Requirement already satisfied: requests in /Users/savantlab/arXiv-search/env/lib/python3.11/site-packages (from huggingface_hub) (2.32.3)\n",
      "Requirement already satisfied: tqdm>=4.42.1 in /Users/savantlab/arXiv-search/env/lib/python3.11/site-packages (from huggingface_hub) (4.66.5)\n",
      "Requirement already satisfied: typing-extensions>=3.7.4.3 in /Users/savantlab/arXiv-search/env/lib/python3.11/site-packages (from huggingface_hub) (4.12.2)\n",
      "Requirement already satisfied: charset-normalizer<4,>=2 in /Users/savantlab/arXiv-search/env/lib/python3.11/site-packages (from requests->huggingface_hub) (3.3.2)\n",
      "Requirement already satisfied: idna<4,>=2.5 in /Users/savantlab/arXiv-search/env/lib/python3.11/site-packages (from requests->huggingface_hub) (3.10)\n",
      "Requirement already satisfied: urllib3<3,>=1.21.1 in /Users/savantlab/arXiv-search/env/lib/python3.11/site-packages (from requests->huggingface_hub) (2.2.3)\n",
      "Requirement already satisfied: certifi>=2017.4.17 in /Users/savantlab/arXiv-search/env/lib/python3.11/site-packages (from requests->huggingface_hub) (2024.8.30)\n",
      "Note: you may need to restart the kernel to use updated packages.\n"
     ]
    }
   ],
   "source": [
    "pip install huggingface_hub"
   ]
  },
  {
   "cell_type": "code",
   "execution_count": null,
   "id": "79b447a6",
   "metadata": {},
   "outputs": [],
   "source": []
  }
 ],
 "metadata": {
  "kernelspec": {
   "display_name": "Python 3 (ipykernel)",
   "language": "python",
   "name": "python3"
  },
  "language_info": {
   "codemirror_mode": {
    "name": "ipython",
    "version": 3
   },
   "file_extension": ".py",
   "mimetype": "text/x-python",
   "name": "python",
   "nbconvert_exporter": "python",
   "pygments_lexer": "ipython3",
   "version": "3.11.5"
  }
 },
 "nbformat": 4,
 "nbformat_minor": 5
}
