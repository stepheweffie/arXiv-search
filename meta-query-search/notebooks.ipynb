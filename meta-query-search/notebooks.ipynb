{
 "cells": [
  {
   "cell_type": "code",
   "execution_count": 1,
   "id": "abfdd435",
   "metadata": {
    "scrolled": true
   },
   "outputs": [
    {
     "name": "stdout",
     "output_type": "stream",
     "text": [
      "Requirement already satisfied: requests in /Users/savantlab/arXiv-search/env/lib/python3.11/site-packages (2.32.3)\n",
      "Requirement already satisfied: d6tflow in /Users/savantlab/arXiv-search/env/lib/python3.11/site-packages (0.2.8)\n",
      "Requirement already satisfied: psycopg2 in /Users/savantlab/arXiv-search/env/lib/python3.11/site-packages (2.9.9)\n",
      "Requirement already satisfied: boto3 in /Users/savantlab/arXiv-search/env/lib/python3.11/site-packages (1.35.26)\n",
      "Requirement already satisfied: charset-normalizer<4,>=2 in /Users/savantlab/arXiv-search/env/lib/python3.11/site-packages (from requests) (3.3.2)\n",
      "Requirement already satisfied: idna<4,>=2.5 in /Users/savantlab/arXiv-search/env/lib/python3.11/site-packages (from requests) (3.10)\n",
      "Requirement already satisfied: urllib3<3,>=1.21.1 in /Users/savantlab/arXiv-search/env/lib/python3.11/site-packages (from requests) (2.2.3)\n",
      "Requirement already satisfied: certifi>=2017.4.17 in /Users/savantlab/arXiv-search/env/lib/python3.11/site-packages (from requests) (2024.8.30)\n",
      "Requirement already satisfied: luigi>=3.0.1 in /Users/savantlab/arXiv-search/env/lib/python3.11/site-packages (from d6tflow) (3.5.2)\n",
      "Requirement already satisfied: pandas in /Users/savantlab/arXiv-search/env/lib/python3.11/site-packages (from d6tflow) (2.2.3)\n",
      "Requirement already satisfied: pyarrow in /Users/savantlab/arXiv-search/env/lib/python3.11/site-packages (from d6tflow) (17.0.0)\n",
      "Requirement already satisfied: Jinja2 in /Users/savantlab/arXiv-search/env/lib/python3.11/site-packages (from d6tflow) (3.1.4)\n",
      "Requirement already satisfied: botocore<1.36.0,>=1.35.26 in /Users/savantlab/arXiv-search/env/lib/python3.11/site-packages (from boto3) (1.35.26)\n",
      "Requirement already satisfied: jmespath<2.0.0,>=0.7.1 in /Users/savantlab/arXiv-search/env/lib/python3.11/site-packages (from boto3) (1.0.1)\n",
      "Requirement already satisfied: s3transfer<0.11.0,>=0.10.0 in /Users/savantlab/arXiv-search/env/lib/python3.11/site-packages (from boto3) (0.10.2)\n",
      "Requirement already satisfied: python-dateutil<3.0.0,>=2.1 in /Users/savantlab/arXiv-search/env/lib/python3.11/site-packages (from botocore<1.36.0,>=1.35.26->boto3) (2.9.0.post0)\n",
      "Requirement already satisfied: tenacity<9,>=8 in /Users/savantlab/arXiv-search/env/lib/python3.11/site-packages (from luigi>=3.0.1->d6tflow) (8.5.0)\n",
      "Requirement already satisfied: python-daemon in /Users/savantlab/arXiv-search/env/lib/python3.11/site-packages (from luigi>=3.0.1->d6tflow) (3.0.1)\n",
      "Requirement already satisfied: tornado<7,>=5.0 in /Users/savantlab/arXiv-search/env/lib/python3.11/site-packages (from luigi>=3.0.1->d6tflow) (6.4.1)\n",
      "Requirement already satisfied: MarkupSafe>=2.0 in /Users/savantlab/arXiv-search/env/lib/python3.11/site-packages (from Jinja2->d6tflow) (2.1.5)\n",
      "Requirement already satisfied: numpy>=1.23.2 in /Users/savantlab/arXiv-search/env/lib/python3.11/site-packages (from pandas->d6tflow) (1.26.4)\n",
      "Requirement already satisfied: pytz>=2020.1 in /Users/savantlab/arXiv-search/env/lib/python3.11/site-packages (from pandas->d6tflow) (2024.2)\n",
      "Requirement already satisfied: tzdata>=2022.7 in /Users/savantlab/arXiv-search/env/lib/python3.11/site-packages (from pandas->d6tflow) (2024.2)\n",
      "Requirement already satisfied: six>=1.5 in /Users/savantlab/arXiv-search/env/lib/python3.11/site-packages (from python-dateutil<3.0.0,>=2.1->botocore<1.36.0,>=1.35.26->boto3) (1.16.0)\n",
      "Requirement already satisfied: docutils in /Users/savantlab/arXiv-search/env/lib/python3.11/site-packages (from python-daemon->luigi>=3.0.1->d6tflow) (0.20.1)\n",
      "Requirement already satisfied: lockfile>=0.10 in /Users/savantlab/arXiv-search/env/lib/python3.11/site-packages (from python-daemon->luigi>=3.0.1->d6tflow) (0.12.2)\n",
      "Requirement already satisfied: setuptools>=62.4.0 in /Users/savantlab/arXiv-search/env/lib/python3.11/site-packages (from python-daemon->luigi>=3.0.1->d6tflow) (73.0.1)\n",
      "Note: you may need to restart the kernel to use updated packages.\n"
     ]
    }
   ],
   "source": [
    "pip install requests d6tflow psycopg2 boto3"
   ]
  },
  {
   "cell_type": "code",
   "execution_count": 2,
   "id": "b023e01f",
   "metadata": {},
   "outputs": [
    {
     "name": "stdout",
     "output_type": "stream",
     "text": [
      "Welcome to d6tflow! For Q&A see https://github.com/d6t/d6tflow\n",
      "2022-09-24 17:42:00.717454\n"
     ]
    }
   ],
   "source": [
    "from datetime import datetime\n",
    "from dateutil.relativedelta import relativedelta\n",
    "import d6tflow \n",
    "import requests \n",
    "import pandas as pd \n",
    "import xml.etree.ElementTree as ET\n",
    "\n",
    "# Get the current date and time\n",
    "now = datetime.now()\n",
    "# Subtract two years\n",
    "two_years_ago = now - relativedelta(years=2)\n",
    "print(two_years_ago)"
   ]
  },
  {
   "cell_type": "code",
   "execution_count": 3,
   "id": "fd9f7147",
   "metadata": {},
   "outputs": [
    {
     "name": "stdout",
     "output_type": "stream",
     "text": [
      "https://export.arxiv.org/api/query?search_query=all:machine&learning&meta&data&start=0&max_results=3000\n",
      "machine learning\n"
     ]
    }
   ],
   "source": [
    "query_words = ['machine', 'learning', 'meta', 'data']\n",
    "queries = [word + '&' for word in query_words]\n",
    "query = ''.join(queries)\n",
    "query_size = 3000\n",
    "url = f'https://export.arxiv.org/api/query?search_query=all:{query}start=0&max_results={query_size}'\n",
    "print(url)\n",
    "word = query_words[:2]\n",
    "word = ' '.join(word)\n",
    "print(word)"
   ]
  },
  {
   "cell_type": "code",
   "execution_count": 4,
   "id": "001755f6",
   "metadata": {
    "scrolled": true
   },
   "outputs": [],
   "source": [
    "data = requests.get(url).text"
   ]
  },
  {
   "cell_type": "code",
   "execution_count": 5,
   "id": "194078c9",
   "metadata": {},
   "outputs": [
    {
     "name": "stdout",
     "output_type": "stream",
     "text": [
      "\n",
      "===== Luigi Execution Summary =====\n",
      "\n",
      "Scheduled 1 tasks of which:\n",
      "* 1 complete ones were encountered:\n",
      "    - 1 MetaDataTask()\n",
      "\n",
      "Did not run any tasks\n",
      "This progress looks :) because there were no failed tasks or missing dependencies\n",
      "\n",
      "===== Luigi Execution Summary =====\n",
      "\n"
     ]
    },
    {
     "data": {
      "text/plain": [
       "LuigiRunResult(status=<LuigiStatusCode.SUCCESS: (':)', 'there were no failed tasks or missing dependencies')>,worker=<luigi.worker.Worker object at 0x112c417d0>,scheduling_succeeded=True)"
      ]
     },
     "execution_count": 5,
     "metadata": {},
     "output_type": "execute_result"
    }
   ],
   "source": [
    "class MetaDataTask(d6tflow.tasks.TaskPickle):\n",
    "    def run(self):\n",
    "        archive = dict()\n",
    "        archive['url'] = url \n",
    "        archive[\"data\"] = data\n",
    "        df = {'meta': archive}\n",
    "        self.save(df)\n",
    "        \n",
    "flow = d6tflow.Workflow()\n",
    "flow.run(MetaDataTask)"
   ]
  },
  {
   "cell_type": "code",
   "execution_count": 12,
   "id": "dd43af0b",
   "metadata": {},
   "outputs": [],
   "source": [
    "class SortMetaTask(d6tflow.tasks.TaskPickle):\n",
    "  \n",
    "    def run(self):\n",
    "        two_years_ago = pd.Timestamp.now(tz='UTC') - pd.DateOffset(years=2)\n",
    "        # df = pd.read_xml(data)\n",
    "        from io import StringIO\n",
    "        df = pd.read_xml(StringIO(data) if isinstance(data, str) else data)\n",
    "        index = pd.RangeIndex(start=0, stop=3000)\n",
    "        xml_df = pd.DataFrame()\n",
    "        xml_df['title'] = df['title'][7:]\n",
    "        xml_df['abstract'] = df['summary'][7:]\n",
    "        xml_df['published'] = df['published'][7:]\n",
    "        xml_df['published'] = pd.to_datetime(df['published'])\n",
    "        xml_df['updated'] = df['updated'][7:]\n",
    "        xml_df['url'] = df['id'][7:]\n",
    "        xml_df['two_year_date'] = xml_df['published'].apply(lambda x: 1 if x > two_years_ago else 0)\n",
    "        xml_df['title_has_word'] = xml_df['title'].str.contains(f'{word}', case=False)\n",
    "        xml_df['combined'] = xml_df['title'] + ' ' + xml_df['abstract']\n",
    "        # xml_df.index = index\n",
    "        self.save(xml_df)\n",
    "        \n",
    "# flow = d6tflow.Workflow()\n",
    "# flow.run(SortMetaTask)"
   ]
  },
  {
   "cell_type": "code",
   "execution_count": 13,
   "id": "e1b09e9b",
   "metadata": {},
   "outputs": [
    {
     "name": "stdout",
     "output_type": "stream",
     "text": [
      "\n",
      "===== Luigi Execution Summary =====\n",
      "\n",
      "Scheduled 1 tasks of which:\n",
      "* 1 ran successfully:\n",
      "    - 1 SortMetaTask()\n",
      "\n",
      "This progress looks :) because there were no failed tasks or missing dependencies\n",
      "\n",
      "===== Luigi Execution Summary =====\n",
      "\n"
     ]
    },
    {
     "data": {
      "text/plain": [
       "LuigiRunResult(status=<LuigiStatusCode.SUCCESS: (':)', 'there were no failed tasks or missing dependencies')>,worker=<luigi.worker.Worker object at 0x125faf150>,scheduling_succeeded=True)"
      ]
     },
     "execution_count": 13,
     "metadata": {},
     "output_type": "execute_result"
    }
   ],
   "source": [
    "flow = d6tflow.Workflow()\n",
    "flow.run(SortMetaTask)"
   ]
  },
  {
   "cell_type": "code",
   "execution_count": null,
   "id": "e5f9bc82-0949-4101-a55a-36050ecbe358",
   "metadata": {},
   "outputs": [],
   "source": []
  }
 ],
 "metadata": {
  "kernelspec": {
   "display_name": "Python 3 (ipykernel)",
   "language": "python",
   "name": "python3"
  },
  "language_info": {
   "codemirror_mode": {
    "name": "ipython",
    "version": 3
   },
   "file_extension": ".py",
   "mimetype": "text/x-python",
   "name": "python",
   "nbconvert_exporter": "python",
   "pygments_lexer": "ipython3",
   "version": "3.11.5"
  }
 },
 "nbformat": 4,
 "nbformat_minor": 5
}
